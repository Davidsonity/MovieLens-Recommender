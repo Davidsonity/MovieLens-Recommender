{
 "cells": [
  {
   "cell_type": "markdown",
   "id": "9d7a9762-a0f0-4b4a-9aee-be347e99c20f",
   "metadata": {
    "tags": []
   },
   "source": [
    "## Collaborative Filtering based Recommender System\n",
    "Collaborative filtering is probably the most commonly used recommendation algorithm, there are two main types of methods:\n",
    "\n",
    "- User-based collaborative filtering is based on the user similarity or neighborhood\n",
    "- Item-based collaborative filtering is based on similarity among items\n",
    "They both work similarly but for this project we would be using User-Based collaborative filtering.\n",
    "\n",
    "User-based collaborative filtering looks for users who are similar. This is very similar to the user clustering method where we employed explicit user profiles to calculate user similarity. However, the user profiles may not be available, so how can we determine if two users are similar?\n",
    "\n",
    "User-item interaction matrix\n",
    "For most collaborative filtering-based recommender systems, the main dataset format is a 2-D matrix called the user-item interaction matrix. In the matrix, its row is labeled as the user id/index and column labelled to be the item id/index, and the element (i, j) represents the rating of user i to item j.\n",
    "\n",
    "A user profile can be seen as the user feature vector that mathematically represents a user's learning interests.\n",
    "\n",
    "#### About Dataset\n",
    "\n",
    "This dataset (ml-latest-small) describes 5-star rating and free-text tagging activity from [MovieLens](http://movielens.org), a movie recommendation service. It contains 100836 ratings and 3683 tag applications across 9742 movies. These data were created by 610 users between March 29, 1996 and September 24, 2018. This dataset was generated on September 26, 2018.\n",
    "\n",
    "Users were selected at random for inclusion. All selected users had rated at least 20 movies. No demographic information is included. Each user is represented by an id, and no other information is provided.\n",
    "\n",
    "The data are contained in the files `links.csv`, `movies.csv`, `ratings.csv` and `tags.csv`. More details about the contents and use of all these files follows.\n",
    "\n",
    "This and other GroupLens data sets are publicly available for download at <http://grouplens.org/datasets/>."
   ]
  },
  {
   "cell_type": "markdown",
   "id": "6dc2a35b-438a-43ab-b58b-89d6bf846258",
   "metadata": {
    "tags": []
   },
   "source": [
    "### Building the recommender system"
   ]
  },
  {
   "cell_type": "markdown",
   "id": "c7497694-9544-4585-bef8-1583e52f4e7b",
   "metadata": {},
   "source": [
    "Import necessary libraries"
   ]
  },
  {
   "cell_type": "code",
   "execution_count": null,
   "id": "b66b5278-a129-4b19-ab4e-cb1edd7599ea",
   "metadata": {},
   "outputs": [],
   "source": [
    "from surprise import Dataset, Reader, SVD, KNNBasic\n",
    "from surprise.model_selection import train_test_split\n",
    "from surprise import accuracy\n",
    "import pandas as pd\n",
    "import pickle"
   ]
  },
  {
   "cell_type": "markdown",
   "id": "1f5660dc-bc76-4385-89fb-4641d2d3eb0f",
   "metadata": {},
   "source": [
    "Load movies dataframe `movies.csv`"
   ]
  },
  {
   "cell_type": "code",
   "execution_count": null,
   "id": "7f806782-e883-445f-b619-ac94c36d87c3",
   "metadata": {},
   "outputs": [],
   "source": [
    "movies_df = pd.read_csv('movies.csv')\n",
    "movies_df.head()"
   ]
  },
  {
   "cell_type": "markdown",
   "id": "09953fdc-a12f-4d60-88cb-9ce97a5b8fa3",
   "metadata": {
    "tags": []
   },
   "source": [
    "Load user's ratings dataframe `ratings.csv`"
   ]
  },
  {
   "cell_type": "code",
   "execution_count": null,
   "id": "c657350a-1c8b-4d00-a10f-55001914dc1b",
   "metadata": {},
   "outputs": [],
   "source": [
    "ratings_df = pd.read_csv('ratings.csv')\n",
    "ratings_df.head()"
   ]
  },
  {
   "cell_type": "markdown",
   "id": "2da73872-df52-4b4c-80fd-1f46517d7e52",
   "metadata": {},
   "source": [
    "Load the ratings dataset into a Surprise Dataset"
   ]
  },
  {
   "cell_type": "code",
   "execution_count": null,
   "id": "e2c1bf64-dbbf-4456-80c1-866c65ba291d",
   "metadata": {},
   "outputs": [],
   "source": [
    "reader = Reader(rating_scale=(1, 5))\n",
    "data = Dataset.load_from_df(ratings_df[['userId', 'movieId', 'rating']], reader)"
   ]
  },
  {
   "cell_type": "markdown",
   "id": "cc05e0e5-ae07-437b-aa51-1777e7a61c1b",
   "metadata": {},
   "source": [
    "Split the dataset into train and test sets"
   ]
  },
  {
   "cell_type": "code",
   "execution_count": null,
   "id": "9b5a3ed3-7727-4f57-a7d4-50977bed4824",
   "metadata": {},
   "outputs": [],
   "source": [
    "trainset, testset = train_test_split(data, test_size=0.2)"
   ]
  },
  {
   "cell_type": "markdown",
   "id": "2991b13a-876c-4973-918f-d1b12ee87483",
   "metadata": {},
   "source": [
    "#### Using SVD algorithm"
   ]
  },
  {
   "cell_type": "code",
   "execution_count": null,
   "id": "ab45899a-5dda-4d5a-aa3a-ade2c0683c93",
   "metadata": {},
   "outputs": [],
   "source": [
    "# Instantiate\n",
    "SVD_algor = SVD()\n",
    "\n",
    "# Train the model\n",
    "SVD_algor.fit(trainset)\n",
    "\n",
    "# Make predictions for testset\n",
    "predictions = SVD_algor.test(testset)\n",
    "\n",
    "# Evaluate the model\n",
    "svd_rmse = accuracy.rmse(predictions)"
   ]
  },
  {
   "cell_type": "markdown",
   "id": "aa65d139-1609-4d4e-8ad7-a1e13f3f3d0a",
   "metadata": {},
   "source": [
    "#### Using KNNBasic algorithm"
   ]
  },
  {
   "cell_type": "code",
   "execution_count": null,
   "id": "cf2d5b71-d0f7-4b71-8324-2de36ae8136e",
   "metadata": {},
   "outputs": [],
   "source": [
    "# Instantiate\n",
    "KNN_algor = KNNBasic(sim_options={'user_based': True})  # User-based collaborative filtering\n",
    "\n",
    "# Train the model\n",
    "KNN_algor.fit(trainset)\n",
    "\n",
    "# Make predictions for testset\n",
    "predictions = KNN_algor.test(testset)\n",
    "\n",
    "# Evaluate the model\n",
    "knn_rmse = accuracy.rmse(predictions)"
   ]
  },
  {
   "cell_type": "markdown",
   "id": "92ad8e03-f8de-4815-870f-a2fc077c22a2",
   "metadata": {},
   "source": [
    "#### Results"
   ]
  },
  {
   "cell_type": "code",
   "execution_count": null,
   "id": "2c8015eb-791c-4027-9718-7121b0a389a2",
   "metadata": {},
   "outputs": [],
   "source": [
    "results = {\n",
    "    \"SVD\":[svd_rmse],\n",
    "    \"KNN\": [knn_rmse]\n",
    "          }\n",
    "# Convert the dictionary to a DataFrame\n",
    "results_df = pd.DataFrame(results).T\n",
    "results_df = results_df.rename(columns={0:\"RMSE\"})\n",
    "results_df.sort_values(by='RMSE', ascending=False)"
   ]
  },
  {
   "cell_type": "markdown",
   "id": "4283cb0f-331e-45ea-85ce-881600e926c1",
   "metadata": {},
   "source": [
    "From the results, we can see that the KNN algorithm performed best with a RMSE of 0.94225"
   ]
  },
  {
   "cell_type": "markdown",
   "id": "fca523fb-be2c-4a08-a427-9203510e2ad9",
   "metadata": {
    "tags": []
   },
   "source": [
    "#### Save the model"
   ]
  },
  {
   "cell_type": "code",
   "execution_count": null,
   "id": "11b9c379-47b8-42b8-af08-a75d6d715b36",
   "metadata": {},
   "outputs": [],
   "source": [
    "# Save the KNN model to a file\n",
    "file_name = 'knn_model.pkl'\n",
    "with open(file_name, 'wb') as file:\n",
    "    pickle.dump(KNN_algor, file)"
   ]
  },
  {
   "cell_type": "markdown",
   "id": "60ea8fcb-81f5-4544-87b0-97c90f21f2e0",
   "metadata": {
    "tags": []
   },
   "source": [
    "### Webscrape image_url and extract url from data in links.csv"
   ]
  },
  {
   "cell_type": "code",
   "execution_count": null,
   "id": "bb3362a2-7cc4-47fc-b6ca-c4a761e1a102",
   "metadata": {},
   "outputs": [],
   "source": [
    "import requests\n",
    "from bs4 import BeautifulSoup\n",
    "from tqdm import tqdm\n",
    "\n",
    "import warnings\n",
    "warnings.filterwarnings('ignore')"
   ]
  },
  {
   "cell_type": "markdown",
   "id": "d4e2b1ba-0545-44dc-adf7-6573f29f4dc6",
   "metadata": {},
   "source": [
    "##### Load links dataframe `links.csv`"
   ]
  },
  {
   "cell_type": "code",
   "execution_count": null,
   "id": "eb8d2d57-6528-4d06-a0a1-3fe975412f0b",
   "metadata": {},
   "outputs": [],
   "source": [
    "# load \n",
    "link_df = pd.read_csv('links.csv')\n",
    "link_df.head()"
   ]
  },
  {
   "cell_type": "markdown",
   "id": "ef43c494-945e-4b4c-9bb7-32ea6b13954d",
   "metadata": {},
   "source": [
    "Check information of the dataframes"
   ]
  },
  {
   "cell_type": "code",
   "execution_count": null,
   "id": "8cb354c2-6d7f-4cd5-9377-3c6a47b7c47e",
   "metadata": {},
   "outputs": [],
   "source": [
    "link_df.info()"
   ]
  },
  {
   "cell_type": "code",
   "execution_count": null,
   "id": "b801ee2d-935e-4c3a-b128-d0c93bd28f64",
   "metadata": {},
   "outputs": [],
   "source": [
    "# Create empty columns with null values\n",
    "link_df['url'] = np.nan\n",
    "link_df['img_url'] = np.nan\n",
    "\n",
    "\n",
    "for idx, tmdbId in tqdm(enumerate(link_df['tmdbId']), total = len(link_df['tmdbId'])):\n",
    "    try:\n",
    "        # Get url\n",
    "        url = 'https://www.themoviedb.org/movie/' + str(tmdbId)\n",
    "        link_df['url'][idx] = url\n",
    "\n",
    "        # assign the response to a object\n",
    "        response = requests.get(url)\n",
    "\n",
    "        # Use BeautifulSoup() to create a BeautifulSoup object from a response text content\n",
    "        soup = BeautifulSoup(response.text, 'html.parser')\n",
    "\n",
    "        # Find image container\n",
    "        obj = soup.find('div', 'image_content backdrop').img\n",
    "\n",
    "        # Get image url\n",
    "        image_url = 'https://www.themoviedb.org' + obj.get('data-src')\n",
    "\n",
    "        # Link image url\n",
    "        link_df['img_url'][idx] = image_url\n",
    "    except AttributeError:\n",
    "        image_url = 'https://www.firstcolonyfoundation.org/wp-content/uploads/2022/01/no-photo-available.jpeg'\n",
    "        link_df['img_url'][idx] = image_url"
   ]
  },
  {
   "cell_type": "markdown",
   "id": "3b06b0dd-f772-42da-ba8f-6384913fc330",
   "metadata": {},
   "source": [
    "##### Save link_df"
   ]
  },
  {
   "cell_type": "code",
   "execution_count": null,
   "id": "086db2a0-594e-45bd-9bea-0459eaac32b4",
   "metadata": {},
   "outputs": [],
   "source": [
    "# Save link_df\n",
    "link_df.to_csv('link_df.csv', index=False)"
   ]
  },
  {
   "cell_type": "markdown",
   "id": "8665f860-d1ee-44ba-a3b6-da7fc3bae27d",
   "metadata": {
    "tags": []
   },
   "source": [
    "###  Make recommendations for a specific user"
   ]
  },
  {
   "cell_type": "markdown",
   "id": "2c6539f8-aa1f-4e2e-9952-d9ff2ba0fb8c",
   "metadata": {},
   "source": [
    "Import necessary libraries"
   ]
  },
  {
   "cell_type": "code",
   "execution_count": null,
   "id": "d14d1aff-8f28-4a9a-8504-aaab35b73cda",
   "metadata": {},
   "outputs": [],
   "source": [
    "import pandas as pd\n",
    "import pickle"
   ]
  },
  {
   "cell_type": "markdown",
   "id": "a3eae110-d655-4082-b7bc-417965c0e874",
   "metadata": {},
   "source": [
    "Load movies dataframe movies.csv"
   ]
  },
  {
   "cell_type": "code",
   "execution_count": null,
   "id": "8fe41703-fd21-4b78-b026-e5cdc1770f3f",
   "metadata": {},
   "outputs": [],
   "source": [
    "movies_df = pd.read_csv('movies.csv')"
   ]
  },
  {
   "cell_type": "markdown",
   "id": "6b40b21f-7338-4b34-a150-f717ec4c7a85",
   "metadata": {},
   "source": [
    "Load user's ratings dataframe ratings.csv"
   ]
  },
  {
   "cell_type": "code",
   "execution_count": null,
   "id": "571b548b-771b-46d4-a151-2821879a9b44",
   "metadata": {},
   "outputs": [],
   "source": [
    "ratings_df = pd.read_csv('ratings.csv')\n",
    "ratings_df.head(3)"
   ]
  },
  {
   "cell_type": "markdown",
   "id": "bed74c7d-b456-4336-b063-59f9a44f1ab0",
   "metadata": {},
   "source": [
    "Load links dataframe ratings.csv"
   ]
  },
  {
   "cell_type": "code",
   "execution_count": null,
   "id": "523d5fd5-cfb1-49f4-8ea7-4e12e3471c1c",
   "metadata": {},
   "outputs": [],
   "source": [
    "links_df = pd.read_csv('link_df.csv')\n",
    "links_df.head(3)"
   ]
  },
  {
   "cell_type": "markdown",
   "id": "53ce4185-92e3-414e-b0c8-6ba05d3c4fcd",
   "metadata": {},
   "source": [
    "Merge them on the 'movieId' column"
   ]
  },
  {
   "cell_type": "code",
   "execution_count": null,
   "id": "9a619a81-168f-44ec-9d45-fa4c197f950a",
   "metadata": {},
   "outputs": [],
   "source": [
    "merged_df = pd.merge(movies_df, links_df, on='movieId')\n",
    "merged_df.head(3)"
   ]
  },
  {
   "cell_type": "code",
   "execution_count": null,
   "id": "ca824a9a-d97b-4560-a3d3-1c1fcf2853b7",
   "metadata": {},
   "outputs": [],
   "source": [
    "# Save merged_df\n",
    "merged_df.to_csv('merged_df.csv', index=False)"
   ]
  },
  {
   "cell_type": "markdown",
   "id": "fc46ba4e-08c5-4788-bcd8-46aa8a6a6580",
   "metadata": {},
   "source": [
    "Load the k-NN Model:"
   ]
  },
  {
   "cell_type": "code",
   "execution_count": null,
   "id": "059063a2-959a-4294-89db-01dd5c805653",
   "metadata": {},
   "outputs": [],
   "source": [
    "# Load the saved model from the file\n",
    "file_name = 'knn_model.pkl'\n",
    "with open(file_name, 'rb') as file:\n",
    "    loaded_model = pickle.load(file)"
   ]
  },
  {
   "cell_type": "markdown",
   "id": "09593e2b-4bac-41b7-b53f-36de8cec2f5c",
   "metadata": {},
   "source": [
    "Example of using the loaded model for prediction"
   ]
  },
  {
   "cell_type": "code",
   "execution_count": null,
   "id": "9a98d17f-e993-4c49-9f7e-8eb1aedf2409",
   "metadata": {},
   "outputs": [],
   "source": [
    "user_id = 2\n",
    "user_movies = ratings_df[ratings_df['userId'] == user_id]['movieId'].unique()\n",
    "unrated_movies = merged_df[~merged_df['movieId'].isin(user_movies)]\n",
    "\n",
    "# Get top-10 movie recommendations for the user\n",
    "k = 10\n",
    "user_recommendations = loaded_model.get_neighbors(user_id, k=k)\n",
    "recommended_movies = unrated_movies[unrated_movies['movieId'].isin(user_recommendations)]\n",
    "\n",
    "recommended_movies"
   ]
  },
  {
   "cell_type": "markdown",
   "id": "30ea0cb0-f1a5-42e0-a878-94ebe406f622",
   "metadata": {
    "tags": []
   },
   "source": [
    "###\n",
    "#### ***------------------------------------------------THE END!!!----------------------------------------------***\n",
    "# Author\n",
    "\n",
    "## [Emuejevoke Eshemitan](https://www.linkedin.com/in/emuejevoke-eshemitan/)\n"
   ]
  }
 ],
 "metadata": {
  "kernelspec": {
   "display_name": "Python 3 (ipykernel)",
   "language": "python",
   "name": "python3"
  },
  "language_info": {
   "codemirror_mode": {
    "name": "ipython",
    "version": 3
   },
   "file_extension": ".py",
   "mimetype": "text/x-python",
   "name": "python",
   "nbconvert_exporter": "python",
   "pygments_lexer": "ipython3",
   "version": "3.10.9"
  }
 },
 "nbformat": 4,
 "nbformat_minor": 5
}
